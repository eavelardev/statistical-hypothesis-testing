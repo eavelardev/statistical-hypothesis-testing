{
 "cells": [
  {
   "cell_type": "markdown",
   "metadata": {},
   "source": [
    "# Elementary Statistics_ Picturing The World_ 7th - Larson"
   ]
  },
  {
   "cell_type": "markdown",
   "metadata": {},
   "source": [
    "### Resume with the formulas and concepts to know for testing the difference between means"
   ]
  },
  {
   "cell_type": "code",
   "execution_count": 1,
   "metadata": {},
   "outputs": [],
   "source": [
    "import itertools\n",
    "from math import sqrt\n",
    "from statistics import mean, variance, stdev, pvariance, pstdev\n",
    "\n",
    "import numpy as np\n",
    "import matplotlib.pyplot as plt\n",
    "from scipy.stats import t, norm"
   ]
  },
  {
   "cell_type": "markdown",
   "metadata": {},
   "source": [
    "## 2.3.- Measures of Central Tendency"
   ]
  },
  {
   "cell_type": "markdown",
   "metadata": {},
   "source": [
    "The **mean** of a data set is the sum of the data entries divided by the number of\n",
    "entries. To find the mean of a data set, use one of these formulas.\n",
    "\n",
    "Population Mean: $\\mu = \\frac{\\Sigma x}{N}$\n",
    "\n",
    "Sample Mean: $\\bar{x} = \\frac{\\Sigma x}{n}$\n",
    "\n",
    "The lowercase Greek letter $\\mu$ (pronounced mu) represents the population\n",
    "mean and $\\bar{x}$ (read as “x bar”) represents the sample mean. Note that $N$\n",
    "represents the number of entries in a $\\textit{population}$ and $n$ represents the number\n",
    "of entries in a $\\textit{sample}$. Recall that the uppercase Greek letter sigma ($\\Sigma$)\n",
    "indicates a summation of values."
   ]
  },
  {
   "cell_type": "markdown",
   "metadata": {},
   "source": [
    "## 2.4.- Measures of Variation"
   ]
  },
  {
   "cell_type": "markdown",
   "metadata": {},
   "source": [
    "The **population variance** of a population data set of $N$ entries is\n",
    "\n",
    "Population variance $= \\sigma^2 = \\frac{\\Sigma(x - \\mu)^2}{N}$\n",
    "\n",
    "The symbol $\\sigma$ is the lowercase Greek letter sigma.\n",
    "\n",
    "The **population standard deviation** of a population data set of $N$ entries is the\n",
    "square root of the population variance.\n",
    "\n",
    "Population standard deviation $= \\sigma = \\sqrt{\\sigma^2} = \\sqrt{\\frac{\\Sigma(x - \\mu)^2}{N}}$"
   ]
  },
  {
   "cell_type": "markdown",
   "metadata": {},
   "source": [
    "### **Example 2**"
   ]
  },
  {
   "cell_type": "markdown",
   "metadata": {},
   "source": [
    "Find the population variance and standard deviation of the starting salaries for\n",
    "Corporation A."
   ]
  },
  {
   "cell_type": "code",
   "execution_count": 2,
   "metadata": {},
   "outputs": [
    {
     "name": "stdout",
     "output_type": "stream",
     "text": [
      "# Formulas from scratch\n",
      "population variance = 8.85\n",
      "population standard deviation = 2.975\n",
      "\n",
      "# Using pvariance, pstdev\n",
      "population variance with statistics = 8.85\n",
      "population standard deviation with statistics = 2.975\n"
     ]
    }
   ],
   "source": [
    "salaries = [41, 38, 39, 45, 47, 41, 44, 41, 37, 42]\n",
    "\n",
    "N = len(salaries)\n",
    "mean_val = sum(salaries) / N\n",
    "p_variance = sum([(salary - mean_val) ** 2 for salary in salaries]) / N\n",
    "std = sqrt(p_variance)\n",
    "\n",
    "print('# Formulas from scratch')\n",
    "print('population variance =', round(p_variance, 3))\n",
    "print('population standard deviation =', round(std, 3), end='\\n\\n')\n",
    "\n",
    "p_variance = pvariance(salaries)\n",
    "std = pstdev(salaries)\n",
    "\n",
    "print('# Using pvariance, pstdev')\n",
    "print('population variance with statistics =', round(p_variance, 3))\n",
    "print('population standard deviation with statistics =', round(std, 3))"
   ]
  },
  {
   "cell_type": "markdown",
   "metadata": {},
   "source": [
    "The **sample variance** and **sample standard deviation** of a sample data set of $n$\n",
    "entries are listed below.\n",
    "\n",
    "Sample variance $= s^2 = \\frac{\\Sigma(x - \\bar{x})^2}{n - 1}$\n",
    "\n",
    "Sample standard deviation $= s = \\sqrt{s^2} = \\sqrt{\\frac{\\Sigma(x - \\bar{x})^2}{n - 1}}$"
   ]
  },
  {
   "cell_type": "markdown",
   "metadata": {},
   "source": [
    "### **Example 3**"
   ]
  },
  {
   "cell_type": "markdown",
   "metadata": {},
   "source": [
    "In a study of high school football players that suffered concussions, researchers\n",
    "placed the players in two groups. Players that recovered from their concussions\n",
    "in 14 days or less were placed in Group 1. Those that took more than 14 days\n",
    "were placed in Group 2. The recovery times (in days) for Group 1 are listed\n",
    "below. Find the sample variance and standard deviation of the recovery times"
   ]
  },
  {
   "cell_type": "code",
   "execution_count": 3,
   "metadata": {},
   "outputs": [
    {
     "name": "stdout",
     "output_type": "stream",
     "text": [
      "# Formulas from scratch\n",
      "sample variance = 3.545\n",
      "sample standard deviation = 1.883\n",
      "\n",
      "# Using variance, stdev\n",
      "sample variance with statistics = 3.545\n",
      "sample standard deviation with statistics = 1.883\n"
     ]
    }
   ],
   "source": [
    "times = [4, 7, 6, 7, 9, 5, 8, 10, 9, 8, 7, 10]\n",
    "\n",
    "n = len(times)\n",
    "mean_val = sum(times) / n\n",
    "svariance = sum([(time - mean_val) ** 2 for time in times]) / (n - 1)\n",
    "sstd = sqrt(svariance)\n",
    "\n",
    "print('# Formulas from scratch')\n",
    "print('sample variance =', round(svariance, 3))\n",
    "print('sample standard deviation =', round(sstd, 3), end='\\n\\n')\n",
    "\n",
    "svariance = variance(times)\n",
    "sstd = stdev(times)\n",
    "\n",
    "print('# Using variance, stdev')\n",
    "print('sample variance with statistics =', round(svariance, 3))\n",
    "print('sample standard deviation with statistics =', round(sstd, 3))"
   ]
  },
  {
   "cell_type": "markdown",
   "metadata": {},
   "source": [
    "## 5.1.- Introduction to Normal Distributions and the Standard Normal Distribution"
   ]
  },
  {
   "cell_type": "markdown",
   "metadata": {},
   "source": [
    "The normal distribution with a mean of 0 and a standard deviation of 1 is called the **standard normal distribution**."
   ]
  },
  {
   "cell_type": "markdown",
   "metadata": {},
   "source": [
    "## 5.4- Sampling Distributions and the Central Limit Theorem"
   ]
  },
  {
   "cell_type": "markdown",
   "metadata": {},
   "source": [
    "The mean of the sample means $\\mu_{\\bar{x}}$ is equal to the population mean $\\mu$.\n",
    "\n",
    "$\\mu_{\\bar{x}} = \\mu$\n",
    "\n",
    "The standard deviation of the sample means $\\sigma_{\\bar{x}}$ is equal to the population\n",
    "standard deviation $\\sigma$ divided by the square root of the sample size $n$.\n",
    "\n",
    "$\\sigma_{\\bar{x}} = \\frac{\\sigma}{\\sqrt{n}}$\n",
    "\n",
    "is called the **standard error of the mean**."
   ]
  },
  {
   "cell_type": "markdown",
   "metadata": {},
   "source": [
    "### **Example 1**"
   ]
  },
  {
   "cell_type": "markdown",
   "metadata": {},
   "source": [
    "The number of times four people go grocery shopping in a month is given\n",
    "by the  population values {1, 3, 5, 7}. \n",
    "\n",
    "A probability histogram for the data\n",
    "is shown at the left. You randomly choose two of the four people, with\n",
    "replacement. \n",
    "\n",
    "List all possible samples of size $n$ = 2 and calculate the mean of each. These means\n",
    "form the sampling distribution of the sample means. \n",
    "\n",
    "Find the mean, variance,\n",
    "and standard deviation of the sample means. Compare your results with the\n",
    "mean $\\mu$ = 4, variance $\\sigma^2$ = 5, and standard deviation $\\sigma = \\sqrt{5} \\approx 2.236$ of\n",
    "the population."
   ]
  },
  {
   "cell_type": "code",
   "execution_count": 4,
   "metadata": {},
   "outputs": [
    {
     "name": "stdout",
     "output_type": "stream",
     "text": [
      "population mean = 4\n",
      "population variance = 5\n",
      "population standard deviation = 2.236\n",
      "\n",
      "mean of the sample means = 4\n",
      "standard deviation of the sample means = 1.581\n",
      "pstd/sqrt(n) =  1.581\n"
     ]
    }
   ],
   "source": [
    "values = [1, 3, 5, 7]\n",
    "\n",
    "pmean = mean(values) \n",
    "pvar = pvariance(values)\n",
    "pstd = pstdev(values)\n",
    "\n",
    "print('population mean =', round(pmean, 3))\n",
    "print('population variance =', round(pvar, 3))\n",
    "print('population standard deviation =', round(pstd, 3), end='\\n\\n')\n",
    "\n",
    "n = 2\n",
    "sample_means = [mean(sample) for sample in itertools.product(values, repeat=n)]\n",
    "pmean_xbar = mean(sample_means)\n",
    "pstd_xbar = pstdev(sample_means)\n",
    "\n",
    "print('mean of the sample means =', round(pmean_xbar, 3))\n",
    "print('standard deviation of the sample means =', round(pstd_xbar, 3))\n",
    "print('pstd/sqrt(n) = ', round(pstd/sqrt(n), 3))"
   ]
  },
  {
   "cell_type": "markdown",
   "metadata": {},
   "source": [
    "### The Central limit theorem"
   ]
  },
  {
   "cell_type": "markdown",
   "metadata": {},
   "source": [
    "- If random samples of size $n$, where $n \\ge 30$, are drawn from any population with\n",
    "a mean $\\mu$ and a standard deviation $\\sigma$, then the sampling distribution of\n",
    "sample means approximates a normal distribution. The greater the sample\n",
    "size, the better the approximation\n",
    "- If random samples of size $n$ are drawn from a population that is normally\n",
    "distributed, then the sampling distribution of sample means is normally\n",
    "distributed for any sample size $n$.\n",
    "\n",
    "In either case, the sampling distribution of sample means has a mean equal\n",
    "to the population mean.\n",
    "\n",
    "$\\mu_{\\bar{x}} = \\mu$"
   ]
  },
  {
   "cell_type": "markdown",
   "metadata": {},
   "source": [
    "## 6.1.- Confidence Intervals for the Mean ($\\sigma$ Known)"
   ]
  },
  {
   "cell_type": "markdown",
   "metadata": {},
   "source": [
    "A **point estimate** is a single value estimate for a population parameter. The most unbiased point estimate of the population mean $\\mu$ is the sample mean $\\bar{x}$."
   ]
  },
  {
   "cell_type": "markdown",
   "metadata": {},
   "source": [
    "### **Example 1**"
   ]
  },
  {
   "cell_type": "markdown",
   "metadata": {},
   "source": [
    "### Finding a Point Estimate"
   ]
  },
  {
   "cell_type": "markdown",
   "metadata": {},
   "source": [
    "A researcher is collecting data about a college athletic conference and its\n",
    "student-athletes. A random sample of 40 student-athletes is selected and\n",
    "their numbers of hours spent on required athletic activities for one week\n",
    "are recorded. Find a point estimate for the population\n",
    "mean $\\mu$, the mean number of hours spent on required athletic activities by all\n",
    "student-athletes in the conference."
   ]
  },
  {
   "cell_type": "markdown",
   "metadata": {},
   "source": [
    "### Solution"
   ]
  },
  {
   "cell_type": "markdown",
   "metadata": {},
   "source": [
    "The sample mean of the data is"
   ]
  },
  {
   "cell_type": "markdown",
   "metadata": {},
   "source": [
    "$\\bar{x} = \\frac{\\Sigma x}{n} = \\frac{842}{40} = 21.1$"
   ]
  },
  {
   "cell_type": "code",
   "execution_count": 5,
   "metadata": {},
   "outputs": [
    {
     "name": "stdout",
     "output_type": "stream",
     "text": [
      "sample mean:  21.05\n"
     ]
    }
   ],
   "source": [
    "data = [19, 25, 15, 21, 22, 20, 20, 22,\n",
    "        22, 21, 21, 23, 22, 16, 21, 18,\n",
    "        25, 23, 23, 21, 22, 24, 18, 19,\n",
    "        23, 20, 19, 19, 24, 25, 17, 21,\n",
    "        21, 25, 23, 18, 22, 20, 21, 21]\n",
    "\n",
    "n = len(data)\n",
    "smean =  sum(data) / n\n",
    "print('sample mean: ', smean)"
   ]
  },
  {
   "cell_type": "markdown",
   "metadata": {},
   "source": [
    "So, the point estimate for the mean number of hours spent on required athletic activities by all student-athletes in the conference is about 21.1 hours"
   ]
  },
  {
   "cell_type": "markdown",
   "metadata": {},
   "source": [
    "In Example 1, the probability that the population mean is exactly 21.1 is virtually zero. So, instead of estimating $\\mu$ to be exactly 21.1 using a point estimate, you can estimate that $\\mu$ lies in an interval. This is called making an interval estimate."
   ]
  },
  {
   "cell_type": "markdown",
   "metadata": {},
   "source": [
    "An **interval estimate** is an interval, or range of values, used to estimate a population parameter."
   ]
  },
  {
   "cell_type": "markdown",
   "metadata": {},
   "source": [
    "The **level of confidence** $c$ is the probability that the interval estimate contains the population parameter, assuming that the estimation process is repeated a large number of times."
   ]
  },
  {
   "cell_type": "markdown",
   "metadata": {},
   "source": [
    "The level of confidence $c$ is the area under the standard normal curve between the `critical values`, $-z_c$ and $z_c$.\n",
    "\n",
    "**Critical values** are values that separate sample statistics that are probable from sample statistics that are improbable, or unusual. \n",
    "\n",
    "* $c$ is the percent of the area under the normal curve between $-z_c$ and $z_c$. The area remaining is $1 - c$, so the area in each tail is $\\frac{1}{2}(1 - c)$. \n",
    "\n",
    "* if $c = 90\\%$, then $5\\%$ of the area lies to the left of $-z_c = -1.645$ and $5\\%$ lies to the right of $z_c = 1.645$."
   ]
  },
  {
   "cell_type": "code",
   "execution_count": 6,
   "metadata": {},
   "outputs": [
    {
     "data": {
      "image/png": "[encoded data removed]",
      "text/plain": [
       "<Figure size 432x288 with 1 Axes>"
      ]
     },
     "metadata": {
      "needs_background": "light"
     },
     "output_type": "display_data"
    },
    {
     "name": "stdout",
     "output_type": "stream",
     "text": [
      "lz_c: -1.645\n",
      "rz_c: 1.645\n"
     ]
    }
   ],
   "source": [
    "lim = 3.5\n",
    "x = np.linspace(-lim, lim, 100)\n",
    "y = norm.pdf(x) # Probability density function.\n",
    "\n",
    "c = 0.90\n",
    "area_one_tail = 0.5 * (1 - c)\n",
    "lz_c = norm.ppf(area_one_tail)     # Critical value separating left tail\n",
    "rz_c = norm.ppf(c + area_one_tail) # Critical value separating right tail\n",
    "\n",
    "plt.plot(x, y)\n",
    "plt.plot([lz_c, lz_c], [norm.pdf(lim), norm.pdf(lz_c)])\n",
    "plt.plot([rz_c, rz_c], [norm.pdf(lim), norm.pdf(rz_c)])\n",
    "plt.show()\n",
    "\n",
    "print('lz_c:', round(lz_c, 3))\n",
    "print('rz_c:', round(rz_c, 3))"
   ]
  },
  {
   "cell_type": "markdown",
   "metadata": {},
   "source": [
    "## 6.2.- Confidence Intervals for the Mean ($\\sigma$ Unknown)"
   ]
  },
  {
   "cell_type": "markdown",
   "metadata": {},
   "source": [
    "The **degrees of freedom** are the number of free choices left after a sample\n",
    "statistic such as $\\bar{x}$ is calculated. When you use a $t$-distribution to estimate\n",
    "a population mean, the degrees of freedom are equal to one less than the\n",
    "sample size.\n",
    "\n",
    "d.f. = $n - 1$\n",
    "\n",
    "As the degrees of freedom increase, the $t$-distribution approaches the\n",
    "standard normal distribution. After 30 d.f., the\n",
    "$t$-distribution is close to the standard normal distribution."
   ]
  },
  {
   "cell_type": "markdown",
   "metadata": {},
   "source": [
    "## 8.1.- Testing the Difference Between Means (Independent Samples,$\\sigma_1$ and $\\sigma_2$ Known)"
   ]
  },
  {
   "cell_type": "markdown",
   "metadata": {},
   "source": [
    "### **Example 2**"
   ]
  },
  {
   "cell_type": "markdown",
   "metadata": {},
   "source": [
    "A credit card watchdog group claims that there is a difference in the mean credit card debts of households in California and Illinois. The results of\n",
    "a random survey of 250 households from each state are shown at the left.\n",
    "The two samples are independent. Assume that $\\sigma_{1}$ = \\$960 for California and $\\sigma_{2}$ = \\$845 for Florida. Do the results support the group’s claim? Use\n",
    "$\\alpha$ = 0.05."
   ]
  },
  {
   "cell_type": "markdown",
   "metadata": {},
   "source": [
    "#### Solution"
   ]
  },
  {
   "cell_type": "markdown",
   "metadata": {},
   "source": [
    "**Claim:** \"there is a difference in the mean credit card debts of people in California and Florida.\""
   ]
  },
  {
   "cell_type": "markdown",
   "metadata": {},
   "source": [
    "$H_{0}$: $\\mu_{1} = \\mu_{2}$ and $H_{a}$: $\\mu_{1} \\neq \\mu_{2}$. (Claim)"
   ]
  },
  {
   "cell_type": "code",
   "execution_count": 7,
   "metadata": {},
   "outputs": [
    {
     "name": "stdout",
     "output_type": "stream",
     "text": [
      "The rejection regions are: z < -1.96 and z > 1.96\n",
      "z: 1.85\n"
     ]
    }
   ],
   "source": [
    "# California\n",
    "smean1 = 3060\n",
    "sstd1 = 960\n",
    "n1 = 250\n",
    "\n",
    "# Florida\n",
    "smean2 = 2910\n",
    "sstd2 = 845\n",
    "n2 = 250\n",
    "\n",
    "alpha = 0.05\n",
    "area_one_tail = 0.5 * alpha\n",
    "\n",
    "z0 = norm.ppf(1 - area_one_tail)\n",
    "z = (smean1 - smean2) / sqrt(sstd1 ** 2/ n1 + sstd2 ** 2/ n2)\n",
    "\n",
    "print('The rejection regions are: z <', round(-z0, 3), 'and z >', round(z0, 3))\n",
    "print('z:', round(z, 2))"
   ]
  },
  {
   "cell_type": "markdown",
   "metadata": {},
   "source": [
    "Because $z$ is not in the rejection region, you fail to reject the null hypothesis. "
   ]
  },
  {
   "cell_type": "markdown",
   "metadata": {},
   "source": [
    "Fail to reject $H_{0}$"
   ]
  },
  {
   "cell_type": "markdown",
   "metadata": {},
   "source": [
    "**Interpretation** There is not enough evidence at the 5% level of significance\n",
    "to support the group’s claim that there is a difference in the mean credit card\n",
    "debts of people in California and Florida."
   ]
  },
  {
   "cell_type": "markdown",
   "metadata": {},
   "source": [
    "### **Try It Yourself 2**"
   ]
  },
  {
   "cell_type": "markdown",
   "metadata": {},
   "source": [
    "A survey indicates that the mean annual wages for forensic science technicians working for local and state governments are \\$60,680 and \\$59,430, respectively. The survey includes a randomly selected sample of size 100 from each government branch. Assume that the population standard deviations are \\$6200 (local) and \\$5575 (state). The two samples are independent. At $\\alpha$ = 0.10, is there enough evidence to conclude that there is a difference in the mean annual wages?"
   ]
  },
  {
   "cell_type": "markdown",
   "metadata": {},
   "source": [
    "#### Solution"
   ]
  },
  {
   "cell_type": "markdown",
   "metadata": {},
   "source": [
    "**Claim:** \"there is a difference in the mean annual wages for forensic science technicians working for local and state governments\""
   ]
  },
  {
   "cell_type": "markdown",
   "metadata": {},
   "source": [
    "$H_{0}$: $\\mu_{1} = \\mu_{2}$ and $H_{a}$: $\\mu_{1} \\neq \\mu_{2}$. (Claim)"
   ]
  },
  {
   "cell_type": "code",
   "execution_count": 8,
   "metadata": {},
   "outputs": [
    {
     "name": "stdout",
     "output_type": "stream",
     "text": [
      "The rejection regions are: z < -1.645 and z > 1.645\n",
      "z: 1.499\n"
     ]
    }
   ],
   "source": [
    "# local\n",
    "smean1 = 60680\n",
    "sstd1 = 6200\n",
    "n1 = 100\n",
    "\n",
    "# state\n",
    "smean2 = 59430\n",
    "sstd2 = 5575\n",
    "n2 = 100\n",
    "\n",
    "alpha = 0.10\n",
    "area_one_tail = 0.5 * alpha\n",
    "\n",
    "z0 = norm.ppf(1 - area_one_tail)\n",
    "z = (smean1 - smean2) / sqrt(sstd1 ** 2/ n1 + sstd2 ** 2/ n2)\n",
    "\n",
    "print('The rejection regions are: z <', round(-z0, 3), 'and z >', round(z0, 3))\n",
    "print('z:', round(z, 3))"
   ]
  },
  {
   "cell_type": "markdown",
   "metadata": {},
   "source": [
    "Because $z$ is not in the rejection region, you fail to reject the null hypothesis. "
   ]
  },
  {
   "cell_type": "markdown",
   "metadata": {},
   "source": [
    "Fail to reject $H_{0}$"
   ]
  },
  {
   "cell_type": "markdown",
   "metadata": {},
   "source": [
    "**Interpretation** There is not enough evidence at the 10% level of significance\n",
    "to support the claim that there is a difference in the mean\n",
    "annual wages for forensic science technicians working for\n",
    "local and state governments.\n"
   ]
  },
  {
   "cell_type": "markdown",
   "metadata": {},
   "source": [
    "### **Example 3**"
   ]
  },
  {
   "cell_type": "markdown",
   "metadata": {},
   "source": [
    "A travel agency claims that the average daily cost of meals and lodging for vacationing in Texas is less than the average daily cost in Virginia. The table at the left shows the results of a random survey of vacationers in each state. The two samples are independent. Assume that $\\sigma_{1}$ = \\$20 for Texas and $\\sigma_{2}$ = \\$25 for Virginia, and that both populations are normally distributed. At $\\alpha$ = 0.01, is there enough evidence to support the claim? "
   ]
  },
  {
   "cell_type": "markdown",
   "metadata": {},
   "source": [
    "#### Solution"
   ]
  },
  {
   "cell_type": "markdown",
   "metadata": {},
   "source": [
    "**Claim:** \"The average daily cost of meals and lodging for vacationing in Texas is less than the average daily cost in Virginia\""
   ]
  },
  {
   "cell_type": "markdown",
   "metadata": {},
   "source": [
    "$H_{0}$: $\\mu_{1} \\ge \\mu_{2}$ and $H_{a}$: $\\mu_{1} < \\mu_{2}$. (Claim)"
   ]
  },
  {
   "cell_type": "code",
   "execution_count": 9,
   "metadata": {},
   "outputs": [
    {
     "name": "stdout",
     "output_type": "stream",
     "text": [
      "The rejection region is: z < -2.33\n",
      "z: -0.87\n"
     ]
    }
   ],
   "source": [
    "# Texas\n",
    "smean1 = 234\n",
    "sstd1 = 20\n",
    "n1 = 25\n",
    "\n",
    "# Virginia\n",
    "smean2 = 240\n",
    "sstd2 = 25\n",
    "n2 = 20\n",
    "\n",
    "alpha = 0.01\n",
    "\n",
    "z0 = norm.ppf(alpha)\n",
    "z = (smean1 - smean2) / sqrt(sstd1 ** 2/ n1 + sstd2 ** 2/ n2)\n",
    "\n",
    "print('The rejection region is: z <', round(z0, 2))\n",
    "print('z:', round(z, 2))"
   ]
  },
  {
   "cell_type": "markdown",
   "metadata": {},
   "source": [
    "Because $z$ is not in the rejection region, you fail to reject the null hypothesis. "
   ]
  },
  {
   "cell_type": "markdown",
   "metadata": {},
   "source": [
    "Fail to reject $H_{0}$"
   ]
  },
  {
   "cell_type": "markdown",
   "metadata": {},
   "source": [
    "**Interpretation** There is not enough evidence at the 1% level of significance to support the travel agency’s claim."
   ]
  },
  {
   "cell_type": "markdown",
   "metadata": {},
   "source": [
    "### **Try It Yourself 3**"
   ]
  },
  {
   "cell_type": "markdown",
   "metadata": {},
   "source": [
    "A travel agency claims that the average daily cost of meals and lodging for vacationing in Alaska is greater than the average daily cost in Colorado. The table at the left shows the results of a random survey of vacationers in each state. The two samples are independent. Assume that $\\sigma_{1}$ = \\$25 for Alaska and $\\sigma_{2}$ = \\$20 for Colorado, and that both populations are normally distributed. At $\\alpha$ = 0.05, is there enough evidence to support the claim?"
   ]
  },
  {
   "cell_type": "markdown",
   "metadata": {},
   "source": [
    "#### Solution"
   ]
  },
  {
   "cell_type": "markdown",
   "metadata": {},
   "source": [
    "**Claim:** \"The average daily cost of meals and lodging for vacationing in Alaska is greater than the average daily cost in Colorado.\""
   ]
  },
  {
   "cell_type": "markdown",
   "metadata": {},
   "source": [
    "$H_{0}$: $\\mu_{1} \\le \\mu_{2}$ and $H_{a}$: $\\mu_{1} > \\mu_{2}$. (Claim)"
   ]
  },
  {
   "cell_type": "code",
   "execution_count": 10,
   "metadata": {},
   "outputs": [
    {
     "name": "stdout",
     "output_type": "stream",
     "text": [
      "The rejection region is: z < -1.64\n",
      "z: 0.509\n"
     ]
    }
   ],
   "source": [
    "# Alaska\n",
    "smean1 = 310\n",
    "sstd1 = 25\n",
    "n1 = 15\n",
    "\n",
    "# Colorado\n",
    "smean2 = 306\n",
    "sstd2 = 20\n",
    "n2 = 20\n",
    "\n",
    "alpha = 0.05\n",
    "\n",
    "z0 = norm.ppf(alpha)\n",
    "z = (smean1 - smean2) / sqrt(sstd1 ** 2/ n1 + sstd2 ** 2/ n2)\n",
    "\n",
    "print('The rejection region is: z <', round(z0, 2))\n",
    "print('z:', round(z, 3))"
   ]
  },
  {
   "cell_type": "markdown",
   "metadata": {},
   "source": [
    "Because $z$ is not in the rejection region or P > $\\alpha$, you fail to reject the null hypothesis. "
   ]
  },
  {
   "cell_type": "markdown",
   "metadata": {},
   "source": [
    "Fail to reject $H_0$."
   ]
  },
  {
   "cell_type": "markdown",
   "metadata": {},
   "source": [
    "**Interpretation** There is not enough evidence at the 5% level of significance to support the travel agency’s claim that the average daily cost of meals and lodging for vacationing in Alaska is greater than the average daily cost in Colorado."
   ]
  },
  {
   "cell_type": "markdown",
   "metadata": {},
   "source": [
    "## 8.2.- Testing the Difference Between Means (Independent Samples,$\\sigma_1$ and $\\sigma_2$ Unknown)"
   ]
  },
  {
   "cell_type": "markdown",
   "metadata": {},
   "source": [
    "### **Example 1**"
   ]
  },
  {
   "cell_type": "markdown",
   "metadata": {},
   "source": [
    "The results of a state mathematics test for random samples of students taught\n",
    "by two different teachers at the same school are shown at the left. Can you\n",
    "conclude that there is a difference in the mean mathematics test scores for\n",
    "the students of the two teachers? Use $\\alpha$ = 0.10. Assume the populations are\n",
    "normally distributed and the population variances are not equal."
   ]
  },
  {
   "cell_type": "markdown",
   "metadata": {},
   "source": [
    "#### Solution"
   ]
  },
  {
   "cell_type": "markdown",
   "metadata": {},
   "source": [
    "**Claim:** \"there is a difference in the mean mathematics test scores for the students of the two teachers.\""
   ]
  },
  {
   "cell_type": "markdown",
   "metadata": {},
   "source": [
    "$H_{0}$: $\\mu_{1} = \\mu_{2}$ and $H_{a}$: $\\mu_{1} \\neq \\mu_{2}$. (Claim)"
   ]
  },
  {
   "cell_type": "code",
   "execution_count": 11,
   "metadata": {},
   "outputs": [
    {
     "name": "stdout",
     "output_type": "stream",
     "text": [
      "The rejection regions are: t < -1.895 and t > 1.895\n",
      "t: 0.922\n"
     ]
    }
   ],
   "source": [
    "# Teacher 1\n",
    "smean1 = 473\n",
    "sstd1 = 39.7\n",
    "n1 = 8\n",
    "\n",
    "# Teacher 2\n",
    "smean2 = 459\n",
    "sstd2 = 24.5\n",
    "n2 = 18\n",
    "\n",
    "alpha = 0.10\n",
    "area_one_tail = 0.5 * alpha\n",
    "df = min(n1, n2) - 1\n",
    "\n",
    "t0 = t.ppf(1 - alpha + area_one_tail, df)\n",
    "tval = (smean1 - smean2) / sqrt(sstd1 ** 2/ n1 + sstd2 ** 2/ n2)\n",
    "\n",
    "print('The rejection regions are: t <', round(-t0, 3), 'and t >', round(t0, 3))\n",
    "print('t:', round(tval, 3))"
   ]
  },
  {
   "cell_type": "markdown",
   "metadata": {},
   "source": [
    "Because $t$ is not in the rejection region, you fail to reject the null hypothesis. "
   ]
  },
  {
   "cell_type": "markdown",
   "metadata": {},
   "source": [
    "Fail to reject $H_{0}$"
   ]
  },
  {
   "cell_type": "markdown",
   "metadata": {},
   "source": [
    "**Interpretation** There is not enough evidence at the 10% level of significance\n",
    "to support the claim that the mean mathematics test scores for the students of\n",
    "the two teachers are different."
   ]
  },
  {
   "cell_type": "markdown",
   "metadata": {},
   "source": [
    "### **Try It Yourself 1**"
   ]
  },
  {
   "cell_type": "markdown",
   "metadata": {},
   "source": [
    "The annual earnings of 25 people with a high school diploma and 16 people\n",
    "with an associate’s degree are shown at the left. Can you conclude that there\n",
    "is a difference in the mean annual earnings based on level of education? Use\n",
    "$\\alpha$ = 0.05. Assume the populations are normally distributed and the population\n",
    "variances are not equal."
   ]
  },
  {
   "cell_type": "markdown",
   "metadata": {},
   "source": [
    "#### Solution"
   ]
  },
  {
   "cell_type": "markdown",
   "metadata": {},
   "source": [
    "**Claim:** \"there is a difference in mean annual earnings\n",
    "based on level of education.\""
   ]
  },
  {
   "cell_type": "markdown",
   "metadata": {},
   "source": [
    "$H_{0}$: $\\mu_{1} = \\mu_{2}$ and $H_{a}$: $\\mu_{1} \\neq \\mu_{2}$. (Claim)"
   ]
  },
  {
   "cell_type": "code",
   "execution_count": 12,
   "metadata": {},
   "outputs": [
    {
     "name": "stdout",
     "output_type": "stream",
     "text": [
      "The rejection regions are: t < -2.131 and t > 2.131\n",
      "t: -3.332\n"
     ]
    }
   ],
   "source": [
    "# High school diploma\n",
    "smean1 = 36875\n",
    "sstd1 = 5475\n",
    "n1 = 25\n",
    "\n",
    "# Associate’s degree\n",
    "smean2 = 44900\n",
    "sstd2 = 8580\n",
    "n2 = 16\n",
    "\n",
    "alpha = 0.05\n",
    "area_one_tail = 0.5 * alpha\n",
    "df = min(n1, n2) - 1\n",
    "\n",
    "t0 = t.ppf(1 - area_one_tail, df)\n",
    "tval = (smean1 - smean2) / sqrt(sstd1 ** 2/ n1 + sstd2 ** 2/ n2)\n",
    "\n",
    "print('The rejection regions are: t <', round(-t0, 3), 'and t >', round(t0, 3))\n",
    "print('t:', round(tval, 3))"
   ]
  },
  {
   "cell_type": "markdown",
   "metadata": {},
   "source": [
    "Because $t$ is\n",
    "in the rejection region, you reject the null hypothesis. "
   ]
  },
  {
   "cell_type": "markdown",
   "metadata": {},
   "source": [
    "Reject $H_{0}$"
   ]
  },
  {
   "cell_type": "markdown",
   "metadata": {},
   "source": [
    "**Interpretation** There is enough evidence at the 5% level of significance\n",
    "to support the claim that there is a difference in the mean\n",
    "annual earnings based on level of education."
   ]
  },
  {
   "cell_type": "markdown",
   "metadata": {},
   "source": [
    "### **Example 2**"
   ]
  },
  {
   "cell_type": "markdown",
   "metadata": {},
   "source": [
    "A manufacturer claims that the mean operating cost per mile of its sedans\n",
    "is less than that of its leading competitor. You conduct a study using\n",
    "30 randomly selected sedans from the manufacturer and 32 from the leading\n",
    "competitor. The results are shown at the left. At $\\alpha$ = 0.05, can you support the\n",
    "manufacturer’s claim? Assume the population variances are equal."
   ]
  },
  {
   "cell_type": "markdown",
   "metadata": {},
   "source": [
    "#### Solution"
   ]
  },
  {
   "cell_type": "markdown",
   "metadata": {},
   "source": [
    "**Claim:** \"The mean driving cost per mile of the manufacturer’s sedans is less than that of its leading competitor\""
   ]
  },
  {
   "cell_type": "markdown",
   "metadata": {},
   "source": [
    "$H_{0}$: $\\mu_{1} \\ge \\mu_{2}$ and $H_{a}$: $\\mu_{1} < \\mu_{2}$. (Claim)"
   ]
  },
  {
   "cell_type": "code",
   "execution_count": 13,
   "metadata": {},
   "outputs": [
    {
     "name": "stdout",
     "output_type": "stream",
     "text": [
      "The rejection region is: t < -1.671\n",
      "t: -1.93\n"
     ]
    }
   ],
   "source": [
    "# Manufacturer\n",
    "smean1 = 0.48\n",
    "sstd1 = 0.05\n",
    "n1 = 30\n",
    "\n",
    "# Competitor\n",
    "smean2 = 0.51\n",
    "sstd2 = 0.07\n",
    "n2 = 32\n",
    "\n",
    "alpha = 0.05\n",
    "df = n1 + n2 - 2\n",
    "\n",
    "t0 = t.ppf(alpha, df)\n",
    "tval = (smean1 - smean2) / (sqrt(((n1 - 1) * sstd1 ** 2 + (n2 -1) * sstd2 ** 2)/ df) * sqrt(1/n1 + 1/n2))\n",
    "\n",
    "print('The rejection region is: t <', round(t0, 3))\n",
    "print('t:', round(tval, 3))"
   ]
  },
  {
   "cell_type": "markdown",
   "metadata": {},
   "source": [
    "Because $t$ is in the rejection region, you reject the null hypothesis. "
   ]
  },
  {
   "cell_type": "markdown",
   "metadata": {},
   "source": [
    "Reject $H_{0}$"
   ]
  },
  {
   "cell_type": "markdown",
   "metadata": {},
   "source": [
    "**Interpretation** There is enough evidence at the 5% level of significance to\n",
    "support the manufacturer’s claim that the mean driving cost per mile of its\n",
    "sedans is less than that of its competitor’s."
   ]
  },
  {
   "cell_type": "markdown",
   "metadata": {},
   "source": [
    "### **Try It Yourself 2**"
   ]
  },
  {
   "cell_type": "markdown",
   "metadata": {},
   "source": [
    "A manufacturer claims that the mean operating cost per mile of its minivans\n",
    "is less than that of its leading competitor. You conduct a study using\n",
    "34 randomly selected minivans from the manufacturer and 38 from the leading\n",
    "competitor. The results are shown at the left. At $\\alpha$ = 0.10, can you support the\n",
    "manufacturer’s claim? Assume the population variances are equal."
   ]
  },
  {
   "cell_type": "markdown",
   "metadata": {},
   "source": [
    "#### Solution"
   ]
  },
  {
   "cell_type": "markdown",
   "metadata": {},
   "source": [
    "**Claim:** \"the mean operating cost per mile of a\n",
    "manufacturer’s minivans is less than that of its leading\n",
    "competitor.\""
   ]
  },
  {
   "cell_type": "markdown",
   "metadata": {},
   "source": [
    "$H_{0}$: $\\mu_{1} \\ge \\mu_{2}$ and $H_{a}$: $\\mu_{1} < \\mu_{2}$. (Claim)"
   ]
  },
  {
   "cell_type": "code",
   "execution_count": 14,
   "metadata": {},
   "outputs": [
    {
     "name": "stdout",
     "output_type": "stream",
     "text": [
      "The rejection region is: t < -1.294\n",
      "t: -1.131\n"
     ]
    }
   ],
   "source": [
    "# Manufacturer\n",
    "smean1 = 0.52\n",
    "sstd1 = 0.08\n",
    "n1 = 34\n",
    "\n",
    "# Competitor\n",
    "smean2 = 0.54\n",
    "sstd2 = 0.07\n",
    "n2 = 38\n",
    "\n",
    "alpha = 0.10\n",
    "df = n1 + n2 - 2\n",
    "\n",
    "t0 = t.ppf(alpha, df)\n",
    "tval = (smean1 - smean2) / (sqrt(((n1 - 1) * sstd1 ** 2 + (n2 -1) * sstd2 ** 2)/ df) * sqrt(1/n1 + 1/n2))\n",
    "\n",
    "print('The rejection region is: t <', round(t0, 3))\n",
    "print('t:', round(tval, 3))"
   ]
  },
  {
   "cell_type": "markdown",
   "metadata": {},
   "source": [
    "Because $t$ is not in the rejection region, you fail to reject the null hypothesis. "
   ]
  },
  {
   "cell_type": "markdown",
   "metadata": {},
   "source": [
    "Fail to reject $H_{0}$"
   ]
  },
  {
   "cell_type": "markdown",
   "metadata": {},
   "source": [
    "**Interpretation** There is not enough evidence at the 10% level of significance\n",
    "to support the manufacturer’s claim that the mean driving\n",
    "cost per mile of its minivans is less than that of its leading\n",
    "competitor."
   ]
  }
 ],
 "metadata": {
  "kernel_info": {
   "name": "py37"
  },
  "kernelspec": {
   "display_name": "Python 3.9.12 ('ml_dev')",
   "language": "python",
   "name": "python3"
  },
  "language_info": {
   "codemirror_mode": {
    "name": "ipython",
    "version": 3
   },
   "file_extension": ".py",
   "mimetype": "text/x-python",
   "name": "python",
   "nbconvert_exporter": "python",
   "pygments_lexer": "ipython3",
   "version": "3.9.12"
  },
  "nteract": {
   "version": "0.15.0"
  },
  "vscode": {
   "interpreter": {
    "hash": "3dbb6e28f32ca2376e4f57c81cef85cf88ffd88cbd1c487658c99f00bdea0c93"
   }
  }
 },
 "nbformat": 4,
 "nbformat_minor": 4
}
