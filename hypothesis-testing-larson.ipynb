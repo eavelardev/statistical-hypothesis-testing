{
 "cells": [
  {
   "cell_type": "markdown",
   "metadata": {},
   "source": [
    "# Elementary Statistics_ Picturing The World_ 6th - Larson"
   ]
  },
  {
   "cell_type": "markdown",
   "metadata": {},
   "source": [
    "### Resume with the formulas and concepts to know for testing the difference between means"
   ]
  },
  {
   "cell_type": "markdown",
   "metadata": {},
   "source": [
    "## 2.3.- Measures of Central Tendency"
   ]
  },
  {
   "cell_type": "markdown",
   "metadata": {},
   "source": [
    "The **mean** of a data set is the sum of the data entries divided by the number of\n",
    "entries. To find the mean of a data set, use one of these formulas.\n",
    "\n",
    "Population Mean: $\\mu = \\frac{\\Sigma x}{N}$\n",
    "\n",
    "Sample Mean: $\\bar{x} = \\frac{\\Sigma x}{n}$\n",
    "\n",
    "The lowercase Greek letter $\\mu$ (pronounced mu) represents the population\n",
    "mean and $\\bar{x}$ (read as “x bar”) represents the sample mean. Note that $N$\n",
    "represents the number of entries in a $\\textit{population}$ and $n$ represents the number\n",
    "of entries in a sample. Recall that the uppercase Greek letter sigma ($\\Sigma$)\n",
    "indicates a summation of values."
   ]
  },
  {
   "cell_type": "markdown",
   "metadata": {},
   "source": [
    "## 2.4.- Measures of Variation"
   ]
  },
  {
   "cell_type": "markdown",
   "metadata": {},
   "source": [
    "The **population variance** of a population data set of $N$ entries is\n",
    "\n",
    "Population variance $= \\sigma^2 = \\frac{\\Sigma(x - \\mu)^2}{N}$\n",
    "\n",
    "The symbol $\\sigma$ is the lowercase Greek letter sigma."
   ]
  },
  {
   "cell_type": "markdown",
   "metadata": {},
   "source": [
    "The **population standard deviation** of a population data set of $N$ entries is the\n",
    "square root of the population variance.\n",
    "\n",
    "Population standard deviation $= \\sigma = \\sqrt{\\sigma^2} = \\sqrt{\\frac{\\Sigma(x - \\mu)^2}{N}}$"
   ]
  },
  {
   "cell_type": "markdown",
   "metadata": {},
   "source": [
    "## 5.1.- Introduction to Normal Distributions and the Standard Normal Distribution"
   ]
  },
  {
   "cell_type": "markdown",
   "metadata": {},
   "source": [
    "The normal distribution with a mean of 0 and a standard deviation of 1 is called the **standard normal distribution**."
   ]
  },
  {
   "cell_type": "markdown",
   "metadata": {},
   "source": [
    "## 5.4- Sampling Distributions and the Central Limit Theorem"
   ]
  },
  {
   "cell_type": "markdown",
   "metadata": {},
   "source": [
    "Standard deviation of the sample means\n",
    "\n",
    "$\\sigma_{\\bar{x}} = \\frac{\\sigma}{\\sqrt{n}}$\n",
    "\n",
    "also called the **standard error of the mean**."
   ]
  },
  {
   "cell_type": "markdown",
   "metadata": {},
   "source": [
    "## 6.1.- Confidence Intervals for the Mean ($\\sigma$ Known)"
   ]
  },
  {
   "cell_type": "markdown",
   "metadata": {},
   "source": [
    "A **point estimate** is a single value estimate for a population parameter. The most unbiased point estimate of the population mean $\\mu$ is the sample mean $\\bar{x}$."
   ]
  },
  {
   "cell_type": "markdown",
   "metadata": {},
   "source": [
    "### Example 1"
   ]
  },
  {
   "cell_type": "markdown",
   "metadata": {},
   "source": [
    "### Finding a Point Estimate"
   ]
  },
  {
   "cell_type": "markdown",
   "metadata": {},
   "source": [
    "An economics researcher is collecting data about grocery store employees in a county. The data listed below represents a random sample of the number of hours worked by 40 employees from several grocery stores in the county. Find a point estimate of the population mean $\\mu$."
   ]
  },
  {
   "cell_type": "code",
   "execution_count": null,
   "metadata": {},
   "outputs": [],
   "source": [
    "data = [30, 26, 33, 26, 26, 33, 31, 31, 21, 37,\n",
    "        27, 20, 34, 35, 30, 24, 38, 34, 39, 31,\n",
    "        22, 30, 23, 23, 31, 44, 31, 33, 33, 26,\n",
    "        27, 28, 25, 35, 23, 32, 29, 31, 25, 27]"
   ]
  },
  {
   "cell_type": "markdown",
   "metadata": {},
   "source": [
    "### Solution"
   ]
  },
  {
   "cell_type": "markdown",
   "metadata": {},
   "source": [
    "The sample mean of the data is"
   ]
  },
  {
   "cell_type": "markdown",
   "metadata": {},
   "source": [
    "$\\bar{x} = \\frac{\\Sigma x}{n} = \\frac{1184}{40} = 29.6$"
   ]
  },
  {
   "cell_type": "code",
   "execution_count": null,
   "metadata": {},
   "outputs": [],
   "source": [
    "sigma_x = sum(data)\n",
    "n = len(data)\n",
    "\n",
    "x_bar =  sigma_x / n\n",
    "print('x_bar: ', x_bar)"
   ]
  },
  {
   "cell_type": "markdown",
   "metadata": {},
   "source": [
    "So, the point estimate for the mean number of hours worked by grocery store employees in this county is 29.6 hours."
   ]
  },
  {
   "cell_type": "markdown",
   "metadata": {},
   "source": [
    "In Example 1, the probability that the population mean is exactly 29.6 is virtually zero. So, instead of estimating $\\mu$ to be exactly 29.6 using a point estimate, you can estimate that $\\mu$ lies in an interval. This is called making an interval estimate."
   ]
  },
  {
   "cell_type": "markdown",
   "metadata": {},
   "source": [
    "An **interval estimate** is an interval, or range of values, used to estimate a population parameter."
   ]
  },
  {
   "cell_type": "markdown",
   "metadata": {},
   "source": [
    "The **level of confidence** $c$ is the probability that the interval estimate contains the population parameter, assuming that the estimation process is repeated a large number of times."
   ]
  },
  {
   "cell_type": "markdown",
   "metadata": {},
   "source": [
    "You know from the Central Limit Theorem that when $n \\geq 30$, the sampling distribution of sample means is a normal distribution. \n",
    "\n",
    "The level of confidence $c$ is the area under the standard normal curve between the `critical values`, $-z_c$ and $z_c$.\n",
    "\n",
    "**Critical values** are values that separate sample statistics that are probable from sample statistics that are improbable, or unusual. \n",
    "\n",
    "* $c$ is the percent of the area under the normal curve between $-z_c$ and $z_c$. The area remaining is $1 - c$, so the area in each tail is $\\frac{1}{2}(1 - c)$. \n",
    "\n",
    "* if $c = 90\\%$, then $5\\%$ of the area lies to the left of $-z_c = -1.645$ and $5\\%$ lies to the right of $z_c = 1.645$."
   ]
  },
  {
   "cell_type": "code",
   "execution_count": 3,
   "metadata": {},
   "outputs": [
    {
     "data": {
      "image/png": "[encoded data removed]",
      "text/plain": [
       "<Figure size 432x288 with 1 Axes>"
      ]
     },
     "metadata": {
      "needs_background": "light"
     },
     "output_type": "display_data"
    },
    {
     "name": "stdout",
     "output_type": "stream",
     "text": [
      "lz_c: -1.645\n",
      "rz_c: 1.645\n"
     ]
    }
   ],
   "source": [
    "import numpy as np\n",
    "import matplotlib.pyplot as plt\n",
    "from scipy.stats import norm\n",
    "\n",
    "lim = 3.49\n",
    "x = np.linspace(-lim, lim, 101)\n",
    "y = norm.pdf(x) # Probability density function.\n",
    "\n",
    "c = 0.90\n",
    "area_one_tail = 0.5 * (1 - c)\n",
    "lz_c = norm.ppf(area_one_tail)     # Critical value separating left tail\n",
    "rz_c = norm.ppf(c + area_one_tail) # Critical value separating right tail\n",
    "\n",
    "plt.plot(x, y)\n",
    "plt.plot([lz_c, lz_c], [norm.pdf(lim), norm.pdf(lz_c)])\n",
    "plt.plot([rz_c, rz_c], [norm.pdf(lim), norm.pdf(rz_c)])\n",
    "plt.show()\n",
    "\n",
    "print('lz_c:', round(lz_c, 3))\n",
    "print('rz_c:', round(rz_c, 3))"
   ]
  },
  {
   "cell_type": "markdown",
   "metadata": {},
   "source": [
    "## 8.1.- Testing the Difference Between Means (Independent Samples,$\\sigma_1$ and $\\sigma_2$ Known)"
   ]
  },
  {
   "cell_type": "markdown",
   "metadata": {},
   "source": [
    "### **Example 2**"
   ]
  },
  {
   "cell_type": "markdown",
   "metadata": {},
   "source": [
    "A credit card watchdog group claims that there is a difference in the mean credit card debts of households in California and Illinois. The results of\n",
    "a random survey of 250 households from each state are shown at the left.\n",
    "The two samples are independent. Assume that $\\sigma_{1}$ = \\\\$1045 for California and $\\sigma_{2}$ = \\\\$1350 for Illinois. Do the results support the group’s claim? Use\n",
    "$\\alpha$ = 0.05."
   ]
  },
  {
   "cell_type": "markdown",
   "metadata": {},
   "source": [
    "#### Solution"
   ]
  },
  {
   "cell_type": "markdown",
   "metadata": {},
   "source": [
    "**Claim:** \"there is a difference in the mean credit card debts of households in California and Illinois.\""
   ]
  },
  {
   "cell_type": "markdown",
   "metadata": {},
   "source": [
    "$H_{0}$: $\\mu_{1} = \\mu_{2}$ and $H_{a}$: $\\mu_{1} \\neq \\mu_{2}$. (Claim)"
   ]
  },
  {
   "cell_type": "code",
   "execution_count": 4,
   "metadata": {},
   "outputs": [
    {
     "name": "stdout",
     "output_type": "stream",
     "text": [
      "The rejection regions are: z < -1.96 and z > 1.96\n",
      "z: -0.824\n"
     ]
    }
   ],
   "source": [
    "from scipy.stats import norm\n",
    "import math\n",
    "\n",
    "# California\n",
    "xbar1 = 4777\n",
    "sigma1 = 1045\n",
    "n1 = 250\n",
    "\n",
    "# Illinois\n",
    "xbar2 = 4866\n",
    "sigma2 = 1350\n",
    "n2 = 250\n",
    "\n",
    "alpha = 0.05\n",
    "area_one_tail = 0.5 * alpha\n",
    "\n",
    "z0 = norm.ppf((1 - alpha) + area_one_tail)\n",
    "z = (xbar1 - xbar2) / math.sqrt(sigma1 ** 2/ n1 + sigma2 ** 2/ n2)\n",
    "\n",
    "print('The rejection regions are: z <', round(-z0, 3), 'and z >', round(z0, 3))\n",
    "print('z:', round(z, 3))"
   ]
  },
  {
   "cell_type": "markdown",
   "metadata": {},
   "source": [
    "Because $z$ is not in the rejection region, you fail to reject the null hypothesis. "
   ]
  },
  {
   "cell_type": "markdown",
   "metadata": {},
   "source": [
    "Fail to reject $H_{0}$"
   ]
  },
  {
   "cell_type": "markdown",
   "metadata": {},
   "source": [
    "**Interpretation** There is not enough evidence at the 5% level of significance\n",
    "to support the group’s claim that there is a difference in the mean credit card\n",
    "debts of households in California and Illinois."
   ]
  },
  {
   "cell_type": "markdown",
   "metadata": {},
   "source": [
    "### **Try It Yourself 2**"
   ]
  },
  {
   "cell_type": "markdown",
   "metadata": {},
   "source": [
    "A survey indicates that the mean annual wages for forensic science technicians working for local and state governments are \\\\$55,950 and \\\\$51,100, respectively. The survey includes a randomly selected sample of size 100 from each government branch. Assume that the population standard deviations are \\\\$6200 (local) and \\\\$5575 (state). The two samples are independent. At $\\alpha$ = 0.10, is there enough evidence to conclude that there is a difference in the mean annual wages?"
   ]
  },
  {
   "cell_type": "markdown",
   "metadata": {},
   "source": [
    "#### Solution"
   ]
  },
  {
   "cell_type": "markdown",
   "metadata": {},
   "source": [
    "**Claim:** \"there is a difference in the mean annual wages for forensic science technicians working for local and state governments\""
   ]
  },
  {
   "cell_type": "markdown",
   "metadata": {},
   "source": [
    "$H_{0}$: $\\mu_{1} = \\mu_{2}$ and $H_{a}$: $\\mu_{1} \\neq \\mu_{2}$. (Claim)"
   ]
  },
  {
   "cell_type": "code",
   "execution_count": 5,
   "metadata": {},
   "outputs": [
    {
     "name": "stdout",
     "output_type": "stream",
     "text": [
      "The rejection regions are: z < -1.645 and z > 1.645\n",
      "z: 5.817\n"
     ]
    }
   ],
   "source": [
    "from scipy.stats import norm\n",
    "import math\n",
    "\n",
    "# local\n",
    "xbar1 = 55950\n",
    "sigma1 = 6200\n",
    "n1 = 100\n",
    "\n",
    "# state\n",
    "xbar2 = 51100\n",
    "sigma2 = 5575\n",
    "n2 = 100\n",
    "\n",
    "alpha = 0.10\n",
    "area_one_tail = 0.5 * alpha\n",
    "\n",
    "z0 = norm.ppf((1 - alpha) + area_one_tail)\n",
    "z = (xbar1 - xbar2) / math.sqrt(sigma1 ** 2/ n1 + sigma2 ** 2/ n2)\n",
    "\n",
    "print('The rejection regions are: z <', round(-z0, 3), 'and z >', round(z0, 3))\n",
    "print('z:', round(z, 3))"
   ]
  },
  {
   "cell_type": "markdown",
   "metadata": {},
   "source": [
    "Because $z$ is\n",
    "in the rejection region, you reject the null hypothesis. "
   ]
  },
  {
   "cell_type": "markdown",
   "metadata": {},
   "source": [
    "Reject $H_{0}$"
   ]
  },
  {
   "cell_type": "markdown",
   "metadata": {},
   "source": [
    "**Interpretation** There is enough evidence at the 10% level of significance to support the claim that there is a difference in the mean annual wages for forensic science technicians working for local and state governments."
   ]
  },
  {
   "cell_type": "markdown",
   "metadata": {},
   "source": [
    "### **Example 3**"
   ]
  },
  {
   "cell_type": "markdown",
   "metadata": {},
   "source": [
    "A travel agency claims that the average daily cost of meals and lodging for vacationing in Texas is less than the average daily cost in Virginia. The table at the left shows the results of a random survey of vacationers in each state. The two samples are independent. Assume that $\\sigma_{1}$ = \\\\$19 for Texas and $\\sigma_{2}$ = \\\\$24 for Virginia, and that both populations are normally distributed. At $\\alpha$ = 0.01, is there enough evidence to support the claim? "
   ]
  },
  {
   "cell_type": "markdown",
   "metadata": {},
   "source": [
    "#### Solution"
   ]
  },
  {
   "cell_type": "markdown",
   "metadata": {},
   "source": [
    "**Claim:** \"The average daily cost of meals and lodging for vacationing in Texas is less than the average daily cost in Virginia\""
   ]
  },
  {
   "cell_type": "markdown",
   "metadata": {},
   "source": [
    "$H_{0}$: $\\mu_{1} \\ge \\mu_{2}$ and $H_{a}$: $\\mu_{1} < \\mu_{2}$. (Claim)"
   ]
  },
  {
   "cell_type": "code",
   "execution_count": 6,
   "metadata": {},
   "outputs": [
    {
     "name": "stdout",
     "output_type": "stream",
     "text": [
      "The rejection region is: z < -2.326\n",
      "z: -0.912\n"
     ]
    }
   ],
   "source": [
    "from scipy.stats import norm\n",
    "import math\n",
    "\n",
    "# Texas\n",
    "xbar1 = 234\n",
    "sigma1 = 19\n",
    "n1 = 25\n",
    "\n",
    "# Virginia\n",
    "xbar2 = 240\n",
    "sigma2 = 24\n",
    "n2 = 20\n",
    "\n",
    "alpha = 0.01\n",
    "\n",
    "z0 = norm.ppf(alpha)\n",
    "z = (xbar1 - xbar2) / math.sqrt(sigma1 ** 2/ n1 + sigma2 ** 2/ n2)\n",
    "\n",
    "print('The rejection region is: z <', round(z0, 3))\n",
    "print('z:', round(z, 3))"
   ]
  },
  {
   "cell_type": "markdown",
   "metadata": {},
   "source": [
    "Because $z$ is not in the rejection region, you fail to reject the null hypothesis. "
   ]
  },
  {
   "cell_type": "markdown",
   "metadata": {},
   "source": [
    "Fail to reject $H_{0}$"
   ]
  },
  {
   "cell_type": "markdown",
   "metadata": {},
   "source": [
    "**Interpretation** There is not enough evidence at the 1% level of significance to support the travel agency’s claim."
   ]
  },
  {
   "cell_type": "markdown",
   "metadata": {},
   "source": [
    "### **Try It Yourself 3**"
   ]
  },
  {
   "cell_type": "markdown",
   "metadata": {},
   "source": [
    "A travel agency claims that the average daily cost of meals and lodging for vacationing in Alaska is greater than the average daily cost in Colorado. The table at the left shows the results of a random survey of vacationers in each state. The two samples are independent. Assume that $\\sigma_{1}$ = \\\\$24 for Alaska and $\\sigma_{2}$ = \\\\$19 for Colorado, and that both populations are normally distributed. At $\\alpha$ = 0.05, is there enough evidence to support the claim?"
   ]
  },
  {
   "cell_type": "markdown",
   "metadata": {},
   "source": [
    "#### Solution"
   ]
  },
  {
   "cell_type": "markdown",
   "metadata": {},
   "source": [
    "**Claim:** \"The average daily cost of meals and lodging for vacationing in Alaska is greater than the average daily cost in Colorado.\""
   ]
  },
  {
   "cell_type": "markdown",
   "metadata": {},
   "source": [
    "$H_{0}$: $\\mu_{1} \\le \\mu_{2}$ and $H_{a}$: $\\mu_{1} > \\mu_{2}$. (Claim)"
   ]
  },
  {
   "cell_type": "code",
   "execution_count": 7,
   "metadata": {},
   "outputs": [
    {
     "name": "stdout",
     "output_type": "stream",
     "text": [
      "The rejection region is: z < -1.64\n",
      "z: 0.399\n"
     ]
    }
   ],
   "source": [
    "from scipy.stats import norm\n",
    "import math\n",
    "\n",
    "# Alaska\n",
    "xbar1 = 296\n",
    "sigma1 = 24\n",
    "n1 = 15\n",
    "\n",
    "# Colorado\n",
    "xbar2 = 293\n",
    "sigma2 = 19\n",
    "n2 = 20\n",
    "\n",
    "alpha = 0.05\n",
    "\n",
    "z0 = norm.ppf(alpha)\n",
    "z = (xbar1 - xbar2) / math.sqrt(sigma1 ** 2/ n1 + sigma2 ** 2/ n2)\n",
    "\n",
    "print('The rejection region is: z <', round(z0, 2))\n",
    "print('z:', round(z, 3))"
   ]
  },
  {
   "cell_type": "markdown",
   "metadata": {},
   "source": [
    "Because $z$ is not in the rejection region or P > $\\alpha$, you fail to reject the null hypothesis. "
   ]
  },
  {
   "cell_type": "markdown",
   "metadata": {},
   "source": [
    "Fail to reject $H_0$."
   ]
  },
  {
   "cell_type": "markdown",
   "metadata": {},
   "source": [
    "**Interpretation** There is not enough evidence at the 5% level of significance to support the travel agency’s claim that the average daily cost of meals and lodging for vacationing in Alaska is greater than the average daily cost in Colorado."
   ]
  },
  {
   "cell_type": "markdown",
   "metadata": {},
   "source": [
    "## 8.2.- Testing the Difference Between Means (Independent Samples,$\\sigma_1$ and $\\sigma_2$ Unknown)"
   ]
  },
  {
   "cell_type": "markdown",
   "metadata": {},
   "source": [
    "### **Example 1**"
   ]
  },
  {
   "cell_type": "markdown",
   "metadata": {},
   "source": [
    "The results of a state mathematics test for random samples of students taught\n",
    "by two different teachers at the same school are shown at the left. Can you\n",
    "conclude that there is a difference in the mean mathematics test scores for\n",
    "the students of the two teachers? Use $\\alpha$ = 0.10. Assume the populations are\n",
    "normally distributed and the population variances are not equal."
   ]
  },
  {
   "cell_type": "markdown",
   "metadata": {},
   "source": [
    "#### Solution"
   ]
  },
  {
   "cell_type": "markdown",
   "metadata": {},
   "source": [
    "**Claim:** \"there is a difference in the mean mathematics test scores for the students of the two teachers.\""
   ]
  },
  {
   "cell_type": "markdown",
   "metadata": {},
   "source": [
    "$H_{0}$: $\\mu_{1} = \\mu_{2}$ and $H_{a}$: $\\mu_{1} \\neq \\mu_{2}$. (Claim)"
   ]
  },
  {
   "cell_type": "code",
   "execution_count": 8,
   "metadata": {},
   "outputs": [
    {
     "name": "stdout",
     "output_type": "stream",
     "text": [
      "The rejection regions are: t < -1.895 and t > 1.895\n",
      "t: 0.922\n"
     ]
    }
   ],
   "source": [
    "from scipy.stats import t\n",
    "import math\n",
    "\n",
    "# Teacher 1\n",
    "xbar1 = 473\n",
    "sigma1 = 39.7\n",
    "n1 = 8\n",
    "\n",
    "# Teacher 2\n",
    "xbar2 = 459\n",
    "sigma2 = 24.5\n",
    "n2 = 18\n",
    "\n",
    "alpha = 0.10\n",
    "area_one_tail = 0.5 * alpha\n",
    "df = 7\n",
    "\n",
    "t0 = t.ppf(1 - alpha + area_one_tail, df)\n",
    "t = (xbar1 - xbar2) / math.sqrt(sigma1 ** 2/ n1 + sigma2 ** 2/ n2)\n",
    "\n",
    "print('The rejection regions are: t <', round(-t0, 3), 'and t >', round(t0, 3))\n",
    "print('t:', round(t, 3))"
   ]
  },
  {
   "cell_type": "markdown",
   "metadata": {},
   "source": [
    "Because $t$ is not in the rejection region, you fail to reject the null hypothesis. "
   ]
  },
  {
   "cell_type": "markdown",
   "metadata": {},
   "source": [
    "Fail to reject $H_{0}$"
   ]
  },
  {
   "cell_type": "markdown",
   "metadata": {},
   "source": [
    "**Interpretation** There is not enough evidence at the 10% level of significance\n",
    "to support the claim that the mean mathematics test scores for the students of\n",
    "the two teachers are different."
   ]
  },
  {
   "cell_type": "markdown",
   "metadata": {},
   "source": [
    "### **Try It Yourself 1**"
   ]
  },
  {
   "cell_type": "markdown",
   "metadata": {},
   "source": [
    "The annual earnings of 19 people with a high school diploma and 16 people\n",
    "with an associate’s degree are shown at the left. Can you conclude that there\n",
    "is a difference in the mean annual earnings based on level of education? Use\n",
    "$\\alpha$ = 0.01. Assume the populations are normally distributed and the population\n",
    "variances are not equal."
   ]
  },
  {
   "cell_type": "markdown",
   "metadata": {},
   "source": [
    "#### Solution"
   ]
  },
  {
   "cell_type": "markdown",
   "metadata": {},
   "source": [
    "**Claim:** \"there is a difference in mean annual earnings\n",
    "based on level of education.\""
   ]
  },
  {
   "cell_type": "markdown",
   "metadata": {},
   "source": [
    "$H_{0}$: $\\mu_{1} = \\mu_{2}$ and $H_{a}$: $\\mu_{1} \\neq \\mu_{2}$. (Claim)"
   ]
  },
  {
   "cell_type": "code",
   "execution_count": 9,
   "metadata": {},
   "outputs": [
    {
     "name": "stdout",
     "output_type": "stream",
     "text": [
      "The rejection regions are: t < -2.947 and t > 2.947\n",
      "t: -4.954\n"
     ]
    }
   ],
   "source": [
    "from scipy.stats import t\n",
    "import math\n",
    "\n",
    "# High school diploma\n",
    "xbar1 = 32493\n",
    "sigma1 = 3118\n",
    "n1 = 19\n",
    "\n",
    "# Associate’s degree\n",
    "xbar2 = 40907\n",
    "sigma2 = 6162\n",
    "n2 = 16\n",
    "\n",
    "alpha = 0.01\n",
    "area_one_tail = 0.5 * alpha\n",
    "df = 15\n",
    "\n",
    "t0 = t.ppf(1 - alpha + area_one_tail, df)\n",
    "t = (xbar1 - xbar2) / math.sqrt(sigma1 ** 2/ n1 + sigma2 ** 2/ n2)\n",
    "\n",
    "print('The rejection regions are: t <', round(-t0, 3), 'and t >', round(t0, 3))\n",
    "print('t:', round(t, 3))"
   ]
  },
  {
   "cell_type": "markdown",
   "metadata": {},
   "source": [
    "Because $t$ is\n",
    "in the rejection region, you reject the null hypothesis. "
   ]
  },
  {
   "cell_type": "markdown",
   "metadata": {},
   "source": [
    "Reject $H_{0}$"
   ]
  },
  {
   "cell_type": "markdown",
   "metadata": {},
   "source": [
    "**Interpretation** There is enough evidence at the 1% level of significance\n",
    "to support the claim that there is a difference in the mean\n",
    "annual earnings based on level of education."
   ]
  },
  {
   "cell_type": "markdown",
   "metadata": {},
   "source": [
    "### **Example 2**"
   ]
  },
  {
   "cell_type": "markdown",
   "metadata": {},
   "source": [
    "A manufacturer claims that the mean operating cost per mile of its sedans\n",
    "is less than that of its leading competitor. You conduct a study using\n",
    "30 randomly selected sedans from the manufacturer and 32 from the leading\n",
    "competitor. The results are shown at the left. At $\\alpha$ = 0.05, can you support the\n",
    "manufacturer’s claim? Assume the population variances are equal."
   ]
  },
  {
   "cell_type": "markdown",
   "metadata": {},
   "source": [
    "#### Solution"
   ]
  },
  {
   "cell_type": "markdown",
   "metadata": {},
   "source": [
    "**Claim:** \"The average daily cost of meals and lodging for vacationing in Texas is less than the average daily cost in Virginia\""
   ]
  },
  {
   "cell_type": "markdown",
   "metadata": {},
   "source": [
    "$H_{0}$: $\\mu_{1} \\ge \\mu_{2}$ and $H_{a}$: $\\mu_{1} < \\mu_{2}$. (Claim)"
   ]
  },
  {
   "cell_type": "code",
   "execution_count": 10,
   "metadata": {},
   "outputs": [
    {
     "name": "stdout",
     "output_type": "stream",
     "text": [
      "The rejection region is: t < -1.671\n",
      "t: -1.93\n"
     ]
    }
   ],
   "source": [
    "from scipy.stats import t\n",
    "import math\n",
    "\n",
    "# Manufacturer\n",
    "xbar1 = 0.52\n",
    "sigma1 = 0.05\n",
    "n1 = 30\n",
    "\n",
    "# Competitor\n",
    "xbar2 = 0.55\n",
    "sigma2 = 0.07\n",
    "n2 = 32\n",
    "\n",
    "alpha = 0.05\n",
    "df = 60\n",
    "\n",
    "t0 = t.ppf(alpha, df)\n",
    "# t = (xbar1 - xbar2) / math.sqrt(sigma1 ** 2/ n1 + sigma2 ** 2/ n2)\n",
    "t = (xbar1 - xbar2) / (math.sqrt(((n1 - 1) * sigma1 ** 2 + (n2 -1) * sigma2 ** 2)/ df) * math.sqrt(1/n1 + 1/n2))\n",
    "\n",
    "print('The rejection region is: t <', round(t0, 3))\n",
    "print('t:', round(t, 3))"
   ]
  },
  {
   "cell_type": "markdown",
   "metadata": {},
   "source": [
    "Because $t$ is in the rejection region, you reject the null hypothesis. "
   ]
  },
  {
   "cell_type": "markdown",
   "metadata": {},
   "source": [
    "Reject $H_{0}$"
   ]
  },
  {
   "cell_type": "markdown",
   "metadata": {},
   "source": [
    "**Interpretation** There is enough evidence at the 5% level of significance to\n",
    "support the manufacturer’s claim that the mean operating cost per mile of its\n",
    "sedans is less than that of its competitor’s."
   ]
  },
  {
   "cell_type": "markdown",
   "metadata": {},
   "source": [
    "### **Try It Yourself 2**"
   ]
  },
  {
   "cell_type": "markdown",
   "metadata": {},
   "source": [
    "A manufacturer claims that the mean operating cost per mile of its minivans\n",
    "is less than that of its leading competitor. You conduct a study using\n",
    "34 randomly selected minivans from the manufacturer and 38 from the leading\n",
    "competitor. The results are shown at the left. At $\\alpha$ = 0.10, can you support the\n",
    "manufacturer’s claim? Assume the population variances are equal."
   ]
  },
  {
   "cell_type": "markdown",
   "metadata": {},
   "source": [
    "#### Solution"
   ]
  },
  {
   "cell_type": "markdown",
   "metadata": {},
   "source": [
    "**Claim:** \"the mean operating cost per mile of a\n",
    "manufacturer’s minivans is less than that of its leading\n",
    "competitor.\""
   ]
  },
  {
   "cell_type": "markdown",
   "metadata": {},
   "source": [
    "$H_{0}$: $\\mu_{1} \\ge \\mu_{2}$ and $H_{a}$: $\\mu_{1} < \\mu_{2}$. (Claim)"
   ]
  },
  {
   "cell_type": "code",
   "execution_count": 11,
   "metadata": {},
   "outputs": [
    {
     "name": "stdout",
     "output_type": "stream",
     "text": [
      "The rejection region is: t < -1.294\n",
      "t: -1.131\n"
     ]
    }
   ],
   "source": [
    "from scipy.stats import t\n",
    "import math\n",
    "\n",
    "# Manufacturer\n",
    "xbar1 = 0.56\n",
    "sigma1 = 0.08\n",
    "n1 = 34\n",
    "\n",
    "# Competitor\n",
    "xbar2 = 0.58\n",
    "sigma2 = 0.07\n",
    "n2 = 38\n",
    "\n",
    "alpha = 0.10\n",
    "df = 70\n",
    "\n",
    "t0 = t.ppf(alpha, df)\n",
    "t = (xbar1 - xbar2) / (math.sqrt(((n1 - 1) * sigma1 ** 2 + (n2 -1) * sigma2 ** 2)/ df) * math.sqrt(1/n1 + 1/n2))\n",
    "\n",
    "print('The rejection region is: t <', round(t0, 3))\n",
    "print('t:', round(t, 3))"
   ]
  },
  {
   "cell_type": "markdown",
   "metadata": {},
   "source": [
    "Because $t$ is not in the rejection region, you fail to reject the null hypothesis. "
   ]
  },
  {
   "cell_type": "markdown",
   "metadata": {},
   "source": [
    "Fail to reject $H_{0}$"
   ]
  },
  {
   "cell_type": "markdown",
   "metadata": {},
   "source": [
    "**Interpretation** There is not enough evidence at the 10% level of significance\n",
    "to support the manufacturer’s claim that the mean operating\n",
    "cost per mile of its minivans is less than that of its leading\n",
    "competitor."
   ]
  }
 ],
 "metadata": {
  "kernel_info": {
   "name": "py37"
  },
  "kernelspec": {
   "display_name": "Python 3",
   "language": "python",
   "name": "python3"
  },
  "language_info": {
   "codemirror_mode": {
    "name": "ipython",
    "version": 3
   },
   "file_extension": ".py",
   "mimetype": "text/x-python",
   "name": "python",
   "nbconvert_exporter": "python",
   "pygments_lexer": "ipython3",
   "version": "3.6.9"
  },
  "nteract": {
   "version": "0.15.0"
  }
 },
 "nbformat": 4,
 "nbformat_minor": 4
}
